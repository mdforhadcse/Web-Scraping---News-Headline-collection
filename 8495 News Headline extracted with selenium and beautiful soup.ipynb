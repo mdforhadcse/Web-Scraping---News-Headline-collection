{
 "cells": [
  {
   "cell_type": "code",
   "execution_count": 1,
   "id": "5e8e5e5b",
   "metadata": {},
   "outputs": [],
   "source": [
    "from selenium import webdriver\n",
    "from selenium.webdriver.common.keys import Keys\n",
    "from selenium.webdriver.support import expected_conditions as EC\n",
    "from selenium.webdriver.common.by import By\n",
    "from selenium.webdriver.support.wait import WebDriverWait\n",
    "import time\n",
    "import csv\n",
    "from bs4 import BeautifulSoup\n",
    "import pandas as pd"
   ]
  },
  {
   "cell_type": "code",
   "execution_count": 2,
   "id": "4b481609",
   "metadata": {},
   "outputs": [],
   "source": [
    "# file_path = '/Users/forhad/ChromeDriver/chromedriver'\n",
    "# driver = webdriver.Chrome(file_path)\n",
    "\n",
    "from selenium.webdriver.chrome.service import Service\n",
    "ser = Service(\"/Users/forhad/ChromeDriver/chromedriver\")\n",
    "op = webdriver.ChromeOptions()\n",
    "driver = webdriver.Chrome(service=ser, options=op)"
   ]
  },
  {
   "cell_type": "code",
   "execution_count": 3,
   "id": "144ec5fa",
   "metadata": {},
   "outputs": [],
   "source": [
    "def get_url(address):\n",
    "    \"\"\"Generate url from division, district, thana\"\"\"\n",
    "    template = 'https://www.jagonews24.com/bangladesh/{}'\n",
    "    address = address.replace(' ', '/')\n",
    "    return template.format(address)"
   ]
  },
  {
   "cell_type": "code",
   "execution_count": 4,
   "id": "a8203539",
   "metadata": {},
   "outputs": [],
   "source": [
    "url = get_url('dhaka dhaka')\n",
    "driver.get(url)"
   ]
  },
  {
   "cell_type": "code",
   "execution_count": 5,
   "id": "c49868a8",
   "metadata": {},
   "outputs": [
    {
     "name": "stderr",
     "output_type": "stream",
     "text": [
      "/var/folders/hp/265srph925n8mbmg8mlh2y300000gn/T/ipykernel_4708/3895241270.py:1: DeprecationWarning: find_elements_by_* commands are deprecated. Please use find_elements() instead\n",
      "  all_buttons = driver.find_elements_by_tag_name(\"button\")\n"
     ]
    }
   ],
   "source": [
    "all_buttons = driver.find_elements_by_tag_name(\"button\")\n"
   ]
  },
  {
   "cell_type": "code",
   "execution_count": 6,
   "id": "cf4ff1b9",
   "metadata": {},
   "outputs": [],
   "source": [
    "try:\n",
    "    while all_buttons[2].text == 'আরও পড়ুন':\n",
    "        time.sleep(5)\n",
    "        load_more = WebDriverWait(driver, 15).until(EC.element_to_be_clickable((By.XPATH, '//*[@id=\"load_more_button\"]'))).click()\n",
    "        if all_buttons[2].text == 'আর কোনো খবর খুজে পাওয়া যায়নি!':\n",
    "            break\n",
    "except:\n",
    "    pass"
   ]
  },
  {
   "cell_type": "code",
   "execution_count": 7,
   "id": "c8549c77",
   "metadata": {},
   "outputs": [
    {
     "data": {
      "text/plain": [
       "8495"
      ]
     },
     "execution_count": 7,
     "metadata": {},
     "output_type": "execute_result"
    }
   ],
   "source": [
    "soup = BeautifulSoup(driver.page_source, 'html.parser')\n",
    "results = soup.find_all('div', attrs={'class':'paddingTop10 paddingRight10'})\n",
    "len(results)"
   ]
  },
  {
   "cell_type": "code",
   "execution_count": 8,
   "id": "edbe0bb4",
   "metadata": {},
   "outputs": [],
   "source": [
    "def extract_record(item):\n",
    "    \"\"\"Extract and return data into single record\"\"\"\n",
    "    news = item.find('a')['title']\n",
    "    link = item.find('a')['href']\n",
    "    result = (news, link)\n",
    "    return result"
   ]
  },
  {
   "cell_type": "code",
   "execution_count": 9,
   "id": "1ecb25b6",
   "metadata": {},
   "outputs": [],
   "source": [
    "records = []\n",
    "results = soup.find_all('div', attrs={'class':'paddingTop10 paddingRight10'})\n",
    "\n",
    "for item in results:\n",
    "    records.append(extract_record(item))"
   ]
  },
  {
   "cell_type": "code",
   "execution_count": 10,
   "id": "494f62d5",
   "metadata": {},
   "outputs": [
    {
     "data": {
      "text/html": [
       "<div>\n",
       "<style scoped>\n",
       "    .dataframe tbody tr th:only-of-type {\n",
       "        vertical-align: middle;\n",
       "    }\n",
       "\n",
       "    .dataframe tbody tr th {\n",
       "        vertical-align: top;\n",
       "    }\n",
       "\n",
       "    .dataframe thead th {\n",
       "        text-align: right;\n",
       "    }\n",
       "</style>\n",
       "<table border=\"1\" class=\"dataframe\">\n",
       "  <thead>\n",
       "    <tr style=\"text-align: right;\">\n",
       "      <th></th>\n",
       "      <th>Headline</th>\n",
       "      <th>URL</th>\n",
       "    </tr>\n",
       "  </thead>\n",
       "  <tbody>\n",
       "    <tr>\n",
       "      <th>0</th>\n",
       "      <td>১২ বছরের নিচে শিক্ষার্থীদের এখনই ভ্যাকসিন নয়: ...</td>\n",
       "      <td>https://www.jagonews24.com/country/news/731799</td>\n",
       "    </tr>\n",
       "    <tr>\n",
       "      <th>1</th>\n",
       "      <td>ঢাবিতে ভর্তির সুযোগ না পেয়ে আত্মহত্যা</td>\n",
       "      <td>https://www.jagonews24.com/country/news/731784</td>\n",
       "    </tr>\n",
       "    <tr>\n",
       "      <th>2</th>\n",
       "      <td>জাবিতে সেলিম আল দীনের প্রয়াণ দিবস পালন</td>\n",
       "      <td>https://www.jagonews24.com/country/news/731383</td>\n",
       "    </tr>\n",
       "    <tr>\n",
       "      <th>3</th>\n",
       "      <td>বেতনের দাবিতে অনন্ত জলিলের কারখানায় শ্রমিকদের ...</td>\n",
       "      <td>https://www.jagonews24.com/country/news/731222</td>\n",
       "    </tr>\n",
       "    <tr>\n",
       "      <th>4</th>\n",
       "      <td>‘মহামারিতে দেশের প্রতি দুইজনের একজন মানসিক সমস...</td>\n",
       "      <td>https://www.jagonews24.com/campus/news/730566</td>\n",
       "    </tr>\n",
       "    <tr>\n",
       "      <th>...</th>\n",
       "      <td>...</td>\n",
       "      <td>...</td>\n",
       "    </tr>\n",
       "    <tr>\n",
       "      <th>8490</th>\n",
       "      <td>সড়ক দুর্ঘটনা প্রতিরোধ আইন বাতিল ঘোষণা</td>\n",
       "      <td>https://www.jagonews24.com/national/news/7254</td>\n",
       "    </tr>\n",
       "    <tr>\n",
       "      <th>8491</th>\n",
       "      <td>উত্তরায় ৩ আফ্রিকান নাগরিক আটক</td>\n",
       "      <td>https://www.jagonews24.com/national/news/7232</td>\n",
       "    </tr>\n",
       "    <tr>\n",
       "      <th>8492</th>\n",
       "      <td>পুলিশি শক্তি ছাড়া সরকারের কোনো শক্তি নেই : রিজভী</td>\n",
       "      <td>https://www.jagonews24.com/politics/news/5701</td>\n",
       "    </tr>\n",
       "    <tr>\n",
       "      <th>8493</th>\n",
       "      <td>ঢাকা আলিয়া মাদ্রাসায় ছাত্রলীগের দুই গ্রুপের সং...</td>\n",
       "      <td>https://www.jagonews24.com/campus/news/2783</td>\n",
       "    </tr>\n",
       "    <tr>\n",
       "      <th>8494</th>\n",
       "      <td>জীবনের সব কাজই অসমাপ্ত থেকে যায় : ক্যাথরিন</td>\n",
       "      <td>https://www.jagonews24.com/feature/news/1790</td>\n",
       "    </tr>\n",
       "  </tbody>\n",
       "</table>\n",
       "<p>8495 rows × 2 columns</p>\n",
       "</div>"
      ],
      "text/plain": [
       "                                               Headline  \\\n",
       "0     ১২ বছরের নিচে শিক্ষার্থীদের এখনই ভ্যাকসিন নয়: ...   \n",
       "1                 ঢাবিতে ভর্তির সুযোগ না পেয়ে আত্মহত্যা   \n",
       "2                জাবিতে সেলিম আল দীনের প্রয়াণ দিবস পালন   \n",
       "3     বেতনের দাবিতে অনন্ত জলিলের কারখানায় শ্রমিকদের ...   \n",
       "4     ‘মহামারিতে দেশের প্রতি দুইজনের একজন মানসিক সমস...   \n",
       "...                                                 ...   \n",
       "8490              সড়ক দুর্ঘটনা প্রতিরোধ আইন বাতিল ঘোষণা   \n",
       "8491                      উত্তরায় ৩ আফ্রিকান নাগরিক আটক   \n",
       "8492  পুলিশি শক্তি ছাড়া সরকারের কোনো শক্তি নেই : রিজভী   \n",
       "8493  ঢাকা আলিয়া মাদ্রাসায় ছাত্রলীগের দুই গ্রুপের সং...   \n",
       "8494        জীবনের সব কাজই অসমাপ্ত থেকে যায় : ক্যাথরিন   \n",
       "\n",
       "                                                 URL  \n",
       "0     https://www.jagonews24.com/country/news/731799  \n",
       "1     https://www.jagonews24.com/country/news/731784  \n",
       "2     https://www.jagonews24.com/country/news/731383  \n",
       "3     https://www.jagonews24.com/country/news/731222  \n",
       "4      https://www.jagonews24.com/campus/news/730566  \n",
       "...                                              ...  \n",
       "8490   https://www.jagonews24.com/national/news/7254  \n",
       "8491   https://www.jagonews24.com/national/news/7232  \n",
       "8492   https://www.jagonews24.com/politics/news/5701  \n",
       "8493     https://www.jagonews24.com/campus/news/2783  \n",
       "8494    https://www.jagonews24.com/feature/news/1790  \n",
       "\n",
       "[8495 rows x 2 columns]"
      ]
     },
     "execution_count": 10,
     "metadata": {},
     "output_type": "execute_result"
    }
   ],
   "source": [
    "dfM = pd.DataFrame(records, columns=['Headline', 'URL'])\n",
    "dfM"
   ]
  },
  {
   "cell_type": "code",
   "execution_count": 12,
   "id": "5334f35d",
   "metadata": {},
   "outputs": [],
   "source": [
    "dfM.to_csv('news.csv')"
   ]
  },
  {
   "cell_type": "code",
   "execution_count": null,
   "id": "7c6892c9",
   "metadata": {},
   "outputs": [],
   "source": []
  }
 ],
 "metadata": {
  "kernelspec": {
   "display_name": "Python 3 (ipykernel)",
   "language": "python",
   "name": "python3"
  },
  "language_info": {
   "codemirror_mode": {
    "name": "ipython",
    "version": 3
   },
   "file_extension": ".py",
   "mimetype": "text/x-python",
   "name": "python",
   "nbconvert_exporter": "python",
   "pygments_lexer": "ipython3",
   "version": "3.9.7"
  }
 },
 "nbformat": 4,
 "nbformat_minor": 5
}
